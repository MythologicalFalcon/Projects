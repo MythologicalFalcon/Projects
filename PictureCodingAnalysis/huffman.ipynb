{
 "cells": [
  {
   "cell_type": "code",
   "execution_count": 3,
   "metadata": {},
   "outputs": [],
   "source": [
    "#importing of the required modules\n",
    "import cv2\n",
    "from collections import Counter\n",
    "from bitarray import bitarray\n",
    "import math\n",
    "import matplotlib.pyplot as plt\n",
    "import huffman\n",
    "import queue\n",
    "from heapq import heappush, heappop"
   ]
  },
  {
   "cell_type": "code",
   "execution_count": 4,
   "metadata": {},
   "outputs": [],
   "source": [
    "\n",
    "# Load grayscale image\n",
    "lhs = cv2.imread('lhs.png', cv2.IMREAD_GRAYSCALE)\n",
    "rhs = cv2.imread('rhs.png', cv2.IMREAD_GRAYSCALE)\n",
    "\n"
   ]
  },
  {
   "cell_type": "code",
   "execution_count": 5,
   "metadata": {},
   "outputs": [
    {
     "name": "stdout",
     "output_type": "stream",
     "text": [
      "[197 193 187 ... 112 102  98]\n",
      "[193 189 182 ... 111 103  94]\n",
      "Counter({21: 54706, 0: 46963, 28: 33690, 34: 26286, 39: 21098, 43: 19385, 46: 19119, 50: 14866, 53: 11685, 56: 9828, 255: 8834, 59: 8022, 61: 7247, 64: 6425, 156: 6074, 66: 5878, 160: 5689, 151: 5510, 164: 5412, 68: 5199, 144: 4770, 170: 4754, 70: 4753, 199: 4725, 167: 4722, 173: 4678, 72: 4614, 186: 4589, 188: 4553, 180: 4549, 197: 4526, 205: 4524, 194: 4515, 213: 4503, 254: 4495, 192: 4490, 206: 4475, 184: 4474, 200: 4474, 209: 4473, 202: 4469, 195: 4441, 182: 4402, 203: 4388, 175: 4387, 190: 4347, 217: 4329, 178: 4306, 212: 4223, 210: 4222, 219: 4210, 218: 4188, 74: 4178, 207: 4171, 76: 4128, 214: 4006, 215: 3957, 220: 3759, 78: 3750, 221: 3619, 80: 3611, 82: 3467, 225: 3450, 224: 3378, 84: 3349, 223: 3312, 157: 3292, 85: 3249, 159: 3246, 158: 3240, 162: 3229, 226: 3163, 87: 3154, 89: 3100, 161: 3024, 90: 3006, 154: 2975, 152: 2960, 153: 2931, 163: 2889, 165: 2878, 148: 2874, 149: 2855, 93: 2801, 155: 2781, 92: 2779, 150: 2724, 166: 2724, 95: 2716, 146: 2671, 98: 2653, 99: 2636, 145: 2631, 147: 2625, 101: 2624, 102: 2600, 227: 2561, 96: 2547, 118: 2538, 171: 2521, 106: 2518, 103: 2488, 120: 2484, 228: 2472, 119: 2466, 142: 2464, 168: 2452, 107: 2443, 140: 2416, 229: 2414, 174: 2402, 105: 2398, 143: 2386, 139: 2383, 172: 2372, 201: 2350, 141: 2344, 189: 2339, 169: 2337, 112: 2329, 109: 2328, 114: 2323, 111: 2314, 208: 2307, 115: 2299, 117: 2291, 116: 2291, 231: 2289, 123: 2286, 125: 2286, 135: 2268, 122: 2267, 181: 2266, 193: 2261, 183: 2253, 134: 2252, 138: 2250, 230: 2242, 133: 2239, 232: 2235, 136: 2227, 185: 2226, 196: 2222, 110: 2213, 128: 2212, 187: 2210, 124: 2209, 233: 2199, 137: 2190, 204: 2182, 126: 2177, 176: 2173, 127: 2170, 130: 2154, 198: 2140, 191: 2122, 129: 2091, 131: 2091, 179: 2086, 132: 2081, 177: 2078, 216: 2052, 211: 2046, 252: 1997, 234: 1968, 235: 1888, 222: 1846, 236: 1821, 237: 1725, 238: 1543, 253: 1495, 251: 1445, 239: 1408, 240: 1354, 241: 1053, 250: 1050, 242: 910, 249: 735, 244: 674, 245: 635, 3: 633, 2: 577, 246: 557, 248: 548, 247: 516, 243: 508, 1: 432, 4: 207, 5: 148, 6: 100, 8: 50, 7: 45, 14: 37, 16: 34, 9: 32, 17: 27, 11: 24, 13: 23, 15: 19, 12: 18, 10: 16, 19: 14, 18: 13, 29: 8, 25: 8, 23: 7, 22: 6, 36: 6, 20: 6, 26: 6, 38: 6, 32: 5, 48: 5, 49: 5, 35: 5, 52: 4, 57: 4, 51: 4, 113: 3, 37: 3, 27: 3, 58: 3, 24: 3, 30: 3, 65: 2, 91: 2, 73: 2, 33: 2, 94: 2, 31: 2, 40: 2, 67: 2, 54: 2, 41: 2, 62: 2, 60: 2, 88: 1, 63: 1, 86: 1, 71: 1, 45: 1, 75: 1, 55: 1, 44: 1, 47: 1})\n",
      "Counter({253: 8110, 25: 6613, 16: 6543, 19: 6540, 26: 6536, 17: 6370, 27: 6271, 24: 6239, 11: 6191, 33: 6054, 20: 5976, 28: 5793, 18: 5703, 32: 5687, 12: 5368, 34: 5289, 10: 5287, 15: 5249, 21: 5216, 29: 5184, 46: 5161, 43: 5152, 44: 5148, 41: 5135, 23: 5084, 39: 5058, 22: 5032, 31: 4993, 37: 4953, 30: 4949, 14: 4943, 35: 4926, 47: 4910, 36: 4909, 40: 4901, 48: 4682, 252: 4596, 42: 4497, 13: 4434, 38: 4426, 45: 4384, 153: 4181, 50: 4127, 208: 4120, 216: 4106, 209: 4098, 215: 4087, 9: 4047, 160: 4035, 214: 3994, 217: 3977, 196: 3964, 203: 3962, 159: 3956, 202: 3953, 51: 3945, 201: 3929, 49: 3919, 193: 3890, 207: 3865, 200: 3855, 155: 3850, 53: 3845, 158: 3832, 157: 3806, 210: 3800, 195: 3790, 52: 3754, 198: 3734, 205: 3734, 194: 3710, 186: 3701, 154: 3646, 152: 3642, 212: 3605, 162: 3598, 187: 3556, 188: 3543, 206: 3526, 191: 3511, 181: 3479, 151: 3477, 190: 3467, 161: 3463, 54: 3452, 179: 3430, 184: 3429, 146: 3427, 165: 3395, 150: 3389, 213: 3379, 171: 3376, 156: 3369, 164: 3367, 167: 3346, 173: 3342, 172: 3335, 183: 3332, 185: 3332, 169: 3320, 180: 3319, 192: 3296, 148: 3267, 166: 3247, 197: 3244, 218: 3242, 174: 3228, 211: 3221, 219: 3213, 55: 3209, 222: 3206, 163: 3183, 199: 3177, 220: 3160, 8: 3160, 178: 3158, 204: 3147, 189: 3142, 182: 3130, 4: 3121, 145: 3115, 57: 3115, 144: 3107, 176: 3079, 221: 3077, 58: 3065, 168: 3019, 223: 3004, 149: 3002, 147: 2943, 139: 2938, 60: 2878, 143: 2835, 175: 2823, 177: 2811, 170: 2768, 59: 2765, 62: 2755, 141: 2734, 61: 2720, 5: 2701, 56: 2675, 251: 2646, 140: 2600, 138: 2596, 2: 2590, 6: 2539, 137: 2534, 226: 2532, 1: 2522, 142: 2515, 3: 2514, 224: 2438, 64: 2430, 65: 2407, 227: 2396, 118: 2356, 132: 2349, 136: 2339, 125: 2317, 66: 2310, 134: 2297, 68: 2288, 71: 2267, 63: 2266, 230: 2265, 133: 2262, 131: 2251, 234: 2251, 130: 2242, 229: 2242, 116: 2235, 124: 2232, 72: 2229, 73: 2229, 117: 2224, 228: 2202, 67: 2202, 135: 2195, 0: 2147, 233: 2140, 79: 2116, 101: 2108, 70: 2091, 80: 2090, 123: 2089, 108: 2081, 69: 2055, 127: 2054, 126: 2050, 84: 2039, 231: 2038, 122: 2037, 78: 2037, 103: 2035, 115: 2021, 225: 2018, 120: 2015, 128: 2000, 112: 1995, 105: 1990, 87: 1980, 121: 1973, 81: 1973, 85: 1971, 99: 1957, 107: 1956, 113: 1954, 129: 1953, 106: 1937, 74: 1933, 119: 1929, 7: 1925, 86: 1923, 94: 1922, 75: 1913, 89: 1901, 110: 1889, 111: 1888, 93: 1879, 96: 1878, 83: 1874, 76: 1873, 98: 1866, 250: 1865, 100: 1857, 92: 1853, 91: 1840, 77: 1833, 104: 1831, 102: 1825, 82: 1817, 114: 1779, 88: 1779, 97: 1770, 90: 1760, 109: 1744, 236: 1744, 235: 1681, 95: 1591, 249: 1413, 232: 1394, 237: 1290, 238: 1143, 240: 1102, 241: 901, 248: 788, 242: 755, 243: 745, 247: 717, 239: 696, 244: 540, 245: 531, 254: 222, 246: 210, 255: 24})\n"
     ]
    }
   ],
   "source": [
    "\n",
    "# Convert image to a sequence of symbols (pixel values)\n",
    "symbolsLHS = lhs.flatten()\n",
    "print(symbolsLHS)\n",
    "symbolsRHS = rhs.flatten()\n",
    "print(symbolsRHS)\n",
    "\n",
    "\n",
    "# Calculate symbol frequencies\n",
    "freqLHS = Counter(symbolsLHS)\n",
    "print(freqLHS)\n",
    "freqRHS = Counter(symbolsRHS)\n",
    "print(freqRHS)\n"
   ]
  },
  {
   "cell_type": "code",
   "execution_count": 7,
   "metadata": {},
   "outputs": [
    {
     "name": "stdout",
     "output_type": "stream",
     "text": [
      "<__main__.Node object at 0x000002961077EE00>\n",
      "<__main__.Node object at 0x0000029610752350>\n"
     ]
    }
   ],
   "source": [
    "\n",
    "\n",
    "# Build Tree\n",
    "\n",
    "class Node:\n",
    "    def __init__(self, symbol=None, frequency=0, left=None, right=None):\n",
    "        self.symbol = symbol\n",
    "        self.frequency = frequency\n",
    "        self.left = left\n",
    "        self.right = right\n",
    "\n",
    "    def __lt__(self, other):\n",
    "        return self.frequency < other.frequency\n",
    "\n",
    "    def __eq__(self, other):\n",
    "        return self.frequency == other.frequency\n",
    "\n",
    "def generate_huffman_tree(frequencies):\n",
    "    # Create list of nodes\n",
    "    nodes = [Node(symbol, frequency) for symbol, frequency in frequencies.items()]\n",
    "\n",
    "    # Build Huffman tree iteratively\n",
    "    while len(nodes) > 1:\n",
    "        # Pop two nodes with smallest frequencies\n",
    "        node1 = heappop(nodes)\n",
    "        node2 = heappop(nodes)\n",
    "\n",
    "        # Create parent node with combined frequency\n",
    "        parent = Node(frequency=node1.frequency + node2.frequency, left=node1, right=node2)\n",
    "\n",
    "        # Push parent node back onto heap\n",
    "        heappush(nodes, parent)\n",
    "\n",
    "    # Return root node of Huffman tree\n",
    "    return nodes[0]\n",
    "\n",
    "treeLHS = generate_huffman_tree(freqLHS)\n",
    "print(treeLHS)\n",
    "treeRHS = generate_huffman_tree(freqRHS)\n",
    "print(treeRHS)\n"
   ]
  },
  {
   "cell_type": "code",
   "execution_count": 8,
   "metadata": {},
   "outputs": [],
   "source": [
    "\n",
    "# Generate binary codes for each symbol\n",
    "def generate_huffman_table(huffman_tree):\n",
    "    codes = {}\n",
    "\n",
    "    def traverse(node, code):\n",
    "        if node.symbol is not None:\n",
    "            codes[node.symbol] = code\n",
    "        else:\n",
    "            traverse(node.left, code + \"0\")\n",
    "            traverse(node.right, code + \"1\")\n",
    "\n",
    "    traverse(huffman_tree, \"\")\n",
    "    return codes\n",
    "\n",
    "tableLHS = generate_huffman_table(treeLHS)\n",
    "tableRHS = generate_huffman_table(treeRHS)\n",
    "\n",
    "# Encode symbols using binary codes\n",
    "encodedLHS = bitarray()\n",
    "for symbol in symbolsLHS:\n",
    "    encodedLHS.extend(tableLHS[symbol])\n",
    "encodedRHS = bitarray()\n",
    "for symbol in symbolsRHS:\n",
    "    encodedRHS.extend(tableRHS[symbol])\n"
   ]
  },
  {
   "cell_type": "code",
   "execution_count": 9,
   "metadata": {},
   "outputs": [
    {
     "name": "stdout",
     "output_type": "stream",
     "text": [
      "Number of bits using Huffman coding for LHS: 5469938\n",
      "Entropy of source sequence for LHS: 6.862043223064135\n",
      "Number of bits using Huffman coding for RHS: 6227919\n",
      "Entropy of source sequence for RHS: 7.859514285787118\n"
     ]
    }
   ],
   "source": [
    "\n",
    "# Calculate number of bits required to represent image using Huffman coding\n",
    "num_bits_huffmanLHS = len(encodedLHS)\n",
    "num_bits_huffmanRHS = len(encodedRHS)\n",
    "\n",
    "# Calculate entropy of source sequence\n",
    "nLHS = len(symbolsLHS)\n",
    "probabilitiesLHS = [float(freqLHS[symbol]) / nLHS for symbol in freqLHS]\n",
    "entropyLHS = -sum(p * math.log2(p) for p in probabilitiesLHS)\n",
    "nRHS = len(symbolsRHS)\n",
    "probabilitiesRHS = [float(freqRHS[symbol]) / nRHS for symbol in freqRHS]\n",
    "entropyRHS = -sum(p * math.log2(p) for p in probabilitiesRHS)\n",
    "\n",
    "# Print results\n",
    "print(\"Number of bits using Huffman coding for LHS:\", num_bits_huffmanLHS)\n",
    "print(\"Entropy of source sequence for LHS:\", entropyLHS)\n",
    "\n",
    "print(\"Number of bits using Huffman coding for RHS:\", num_bits_huffmanRHS)\n",
    "print(\"Entropy of source sequence for RHS:\", entropyRHS)"
   ]
  }
 ],
 "metadata": {
  "kernelspec": {
   "display_name": "Python 3 (ipykernel)",
   "language": "python",
   "name": "python3"
  },
  "language_info": {
   "codemirror_mode": {
    "name": "ipython",
    "version": 3
   },
   "file_extension": ".py",
   "mimetype": "text/x-python",
   "name": "python",
   "nbconvert_exporter": "python",
   "pygments_lexer": "ipython3",
   "version": "3.10.9"
  }
 },
 "nbformat": 4,
 "nbformat_minor": 2
}

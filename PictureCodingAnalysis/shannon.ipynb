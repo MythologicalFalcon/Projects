{
 "cells": [
  {
   "cell_type": "code",
   "execution_count": 1,
   "id": "bbfdaec1",
   "metadata": {},
   "outputs": [],
   "source": [
    "#Import statements in python\n",
    "import cv2\n",
    "import numpy as np\n",
    "from scipy.stats import entropy\n"
   ]
  },
  {
   "cell_type": "code",
   "execution_count": 2,
   "id": "60c2c3b5",
   "metadata": {},
   "outputs": [],
   "source": [
    "# Loading Image\n",
    "picLHS = cv2.imread('lhs.png', cv2.IMREAD_GRAYSCALE)\n",
    "picRHS = cv2.imread('rhs.png', cv2.IMREAD_GRAYSCALE)"
   ]
  },
  {
   "cell_type": "code",
   "execution_count": 3,
   "id": "273c0729",
   "metadata": {},
   "outputs": [],
   "source": [
    "# Retrival of Symbols\n",
    "getSymbolsLHS = picLHS.flatten()\n",
    "getSymbolsRHS = picRHS.flatten()"
   ]
  },
  {
   "cell_type": "code",
   "execution_count": 4,
   "id": "f5ee7783",
   "metadata": {},
   "outputs": [],
   "source": [
    "# Frequency Calculation\n",
    "getFreqLHS = np.bincount(getSymbolsLHS) / len(getSymbolsLHS)\n",
    "getFreqRHS = np.bincount(getSymbolsRHS) / len(getSymbolsRHS)"
   ]
  },
  {
   "cell_type": "code",
   "execution_count": 5,
   "id": "176a4412",
   "metadata": {},
   "outputs": [
    {
     "name": "stdout",
     "output_type": "stream",
     "text": [
      "Number of bits using Shannon coding for LHS: 5396531\n",
      "Entropy of source sequence for LHS: 6.8620432230641395\n",
      "Number of bits using Shannon coding for RHS: 6180974\n",
      "Entropy of source sequence for RHS: 7.8595142857871165\n"
     ]
    }
   ],
   "source": [
    "# Entropy Source Calculation\n",
    "entropy_sourceLHS = entropy(getFreqLHS, base=2)\n",
    "entropy_sourceRHS = entropy(getFreqRHS, base=2)\n",
    "\n",
    "# Bits Calculation\n",
    "num_bits_shannonLHS = int(np.ceil(entropy_sourceLHS * len(getSymbolsLHS)))\n",
    "num_bits_shannonRHS = int(np.ceil(entropy_sourceRHS * len(getSymbolsRHS)))\n",
    "\n",
    "# Print results\n",
    "print(\"Number of bits using Shannon coding for LHS:\", num_bits_shannonLHS)\n",
    "print(\"Entropy of source sequence for LHS:\", entropy_sourceLHS)\n",
    "\n",
    "print(\"Number of bits using Shannon coding for RHS:\", num_bits_shannonRHS)\n",
    "print(\"Entropy of source sequence for RHS:\", entropy_sourceRHS)\n"
   ]
  }
 ],
 "metadata": {
  "kernelspec": {
   "display_name": "Python 3 (ipykernel)",
   "language": "python",
   "name": "python3"
  },
  "language_info": {
   "codemirror_mode": {
    "name": "ipython",
    "version": 3
   },
   "file_extension": ".py",
   "mimetype": "text/x-python",
   "name": "python",
   "nbconvert_exporter": "python",
   "pygments_lexer": "ipython3",
   "version": "3.10.9"
  }
 },
 "nbformat": 4,
 "nbformat_minor": 5
}
